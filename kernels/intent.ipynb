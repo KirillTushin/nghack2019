{
 "cells": [
  {
   "cell_type": "code",
   "execution_count": 2,
   "metadata": {
    "ExecuteTime": {
     "end_time": "2019-12-15T01:01:16.240628Z",
     "start_time": "2019-12-15T01:01:15.592131Z"
    }
   },
   "outputs": [],
   "source": [
    "import pandas as pd\n",
    "from tqdm import tqdm_notebook\n",
    "%matplotlib inline"
   ]
  },
  {
   "cell_type": "markdown",
   "metadata": {},
   "source": [
    "## Intent classification"
   ]
  },
  {
   "cell_type": "markdown",
   "metadata": {
    "ExecuteTime": {
     "end_time": "2019-12-14T22:21:51.091347Z",
     "start_time": "2019-12-14T22:21:51.088989Z"
    }
   },
   "source": [
    "### Imports"
   ]
  },
  {
   "cell_type": "code",
   "execution_count": 3,
   "metadata": {
    "ExecuteTime": {
     "end_time": "2019-12-15T01:01:16.770899Z",
     "start_time": "2019-12-15T01:01:16.242863Z"
    }
   },
   "outputs": [],
   "source": [
    "from sklearn.feature_extraction.text import TfidfVectorizer\n",
    "from sklearn.pipeline import Pipeline\n",
    "from sklearn.linear_model import LogisticRegression\n",
    "from sklearn.metrics import f1_score, make_scorer\n",
    "from sklearn.model_selection import cross_val_score, StratifiedKFold\n",
    "from sklearn.model_selection import ParameterGrid\n",
    "# from pymystem3 import Mystem"
   ]
  },
  {
   "cell_type": "code",
   "execution_count": 4,
   "metadata": {
    "ExecuteTime": {
     "end_time": "2019-12-15T01:01:16.776279Z",
     "start_time": "2019-12-15T01:01:16.773365Z"
    }
   },
   "outputs": [],
   "source": [
    "macro_f1_score = make_scorer(f1_score, average='macro')\n",
    "# mystem = Mystem(entire_input=False)\n",
    "# mystem.start()\n",
    "\n",
    "# def lematize(text):\n",
    "#     return ' '.join(mystem.lemmatize(text))"
   ]
  },
  {
   "cell_type": "markdown",
   "metadata": {},
   "source": [
    "### Data"
   ]
  },
  {
   "cell_type": "code",
   "execution_count": 5,
   "metadata": {
    "ExecuteTime": {
     "end_time": "2019-12-15T01:01:17.081858Z",
     "start_time": "2019-12-15T01:01:16.779438Z"
    }
   },
   "outputs": [
    {
     "data": {
      "image/png": "[encoded data removed]",
      "text/plain": [
       "<Figure size 432x288 with 1 Axes>"
      ]
     },
     "metadata": {
      "needs_background": "light"
     },
     "output_type": "display_data"
    }
   ],
   "source": [
    "train = pd.read_csv('../data/intent_train.csv')\n",
    "label_map = {label:i for i, label in enumerate(train['label'].unique())}\n",
    "train['label'].map(label_map).hist(bins=13)\n",
    "\n",
    "X = train['text'].fillna('none').str.lower()\n",
    "# X = X.apply(lematize)\n",
    "y = train['label'].map(label_map)"
   ]
  },
  {
   "cell_type": "markdown",
   "metadata": {
    "ExecuteTime": {
     "end_time": "2019-12-14T22:22:27.747540Z",
     "start_time": "2019-12-14T22:22:27.745024Z"
    }
   },
   "source": [
    "### Model"
   ]
  },
  {
   "cell_type": "code",
   "execution_count": 6,
   "metadata": {
    "ExecuteTime": {
     "end_time": "2019-12-15T01:01:17.091866Z",
     "start_time": "2019-12-15T01:01:17.084920Z"
    }
   },
   "outputs": [],
   "source": [
    "def generate_model(params):\n",
    "    tfidf = TfidfVectorizer(\n",
    "        analyzer=params['analyzer'], \n",
    "        ngram_range=(params['range_min'], params['range_max']),\n",
    "        min_df=params['min_df'],\n",
    "        max_features=params['max_features'],\n",
    "    )\n",
    "    lr = LogisticRegression(\n",
    "        C = params['C'],\n",
    "        multi_class='auto',\n",
    "        solver='liblinear',\n",
    "        class_weight='balanced',\n",
    "        random_state=42,\n",
    "        n_jobs=1,\n",
    "    )\n",
    "    return Pipeline([('tfidf', tfidf), ('lr', lr)])"
   ]
  },
  {
   "cell_type": "markdown",
   "metadata": {
    "ExecuteTime": {
     "end_time": "2019-12-14T22:18:55.608092Z",
     "start_time": "2019-12-14T22:18:55.604695Z"
    }
   },
   "source": [
    "### Find best params"
   ]
  },
  {
   "cell_type": "code",
   "execution_count": 7,
   "metadata": {
    "ExecuteTime": {
     "end_time": "2019-12-15T01:32:45.626968Z",
     "start_time": "2019-12-15T01:01:17.094550Z"
    },
    "scrolled": true
   },
   "outputs": [
    {
     "name": "stderr",
     "output_type": "stream",
     "text": [
      "/Users/kirilltusin/.local/share/virtualenvs/DataScience-GrVxlVPs/lib/python3.7/site-packages/ipykernel_launcher.py:14: TqdmDeprecationWarning: This function will be removed in tqdm==5.0.0\n",
      "Please use `tqdm.notebook.tqdm` instead of `tqdm.tqdm_notebook`\n",
      "  \n"
     ]
    },
    {
     "data": {
      "application/vnd.jupyter.widget-view+json": {
       "model_id": "c3a2bd5d3fcc4cf581391227a79d7575",
       "version_major": 2,
       "version_minor": 0
      },
      "text/plain": [
       "HBox(children=(FloatProgress(value=0.0, max=108.0), HTML(value='')))"
      ]
     },
     "metadata": {},
     "output_type": "display_data"
    },
    {
     "name": "stdout",
     "output_type": "stream",
     "text": [
      "BEST PARAMS {'C': 1, 'analyzer': 'char_wb', 'max_features': 1500, 'min_df': 5, 'range_max': 4, 'range_min': 3}\n",
      "BEST SCORE 0.6931196021086841\n",
      "BEST PARAMS {'C': 1, 'analyzer': 'char_wb', 'max_features': 1500, 'min_df': 5, 'range_max': 4, 'range_min': 4}\n",
      "BEST SCORE 0.6992851484458957\n",
      "BEST PARAMS {'C': 1, 'analyzer': 'char_wb', 'max_features': 2000, 'min_df': 5, 'range_max': 4, 'range_min': 3}\n",
      "BEST SCORE 0.708532588738338\n",
      "BEST PARAMS {'C': 1, 'analyzer': 'char_wb', 'max_features': 2000, 'min_df': 5, 'range_max': 4, 'range_min': 4}\n",
      "BEST SCORE 0.7182745603250374\n",
      "BEST PARAMS {'C': 1, 'analyzer': 'char_wb', 'max_features': 2000, 'min_df': 6, 'range_max': 4, 'range_min': 4}\n",
      "BEST SCORE 0.7183074479216031\n",
      "BEST PARAMS {'C': 1, 'analyzer': 'char_wb', 'max_features': 3000, 'min_df': 5, 'range_max': 4, 'range_min': 3}\n",
      "BEST SCORE 0.7228845787388325\n",
      "BEST PARAMS {'C': 1, 'analyzer': 'char_wb', 'max_features': 3000, 'min_df': 5, 'range_max': 4, 'range_min': 4}\n",
      "BEST SCORE 0.7295093634891061\n",
      "BEST PARAMS {'C': 1, 'analyzer': 'char_wb', 'max_features': 3000, 'min_df': 6, 'range_max': 4, 'range_min': 4}\n",
      "BEST SCORE 0.7295908861625161\n",
      "BEST PARAMS {'C': 1, 'analyzer': 'char_wb', 'max_features': 3000, 'min_df': 7, 'range_max': 4, 'range_min': 4}\n",
      "BEST SCORE 0.7297367484000455\n",
      "BEST PARAMS {'C': 10, 'analyzer': 'char_wb', 'max_features': 3000, 'min_df': 5, 'range_max': 4, 'range_min': 3}\n",
      "BEST SCORE 0.745297730294645\n",
      "BEST PARAMS {'C': 10, 'analyzer': 'char_wb', 'max_features': 3000, 'min_df': 5, 'range_max': 4, 'range_min': 4}\n",
      "BEST SCORE 0.7472822927960888\n",
      "\n"
     ]
    }
   ],
   "source": [
    "grid_params = {\n",
    "    'analyzer': ['char_wb'],\n",
    "    'range_min': [3, 4],\n",
    "    'range_max': [4, 5, 6],\n",
    "    'min_df': range(5, 8),\n",
    "    'max_features': [1500, 2000, 3000],\n",
    "    'C': [1, 10],\n",
    "}\n",
    "N_FOLDS = 3\n",
    "cv = StratifiedKFold(n_splits=N_FOLDS, shuffle=True, random_state=42)\n",
    "all_results = []\n",
    "best_param = {}\n",
    "best_score = 0\n",
    "for param in tqdm_notebook(list(ParameterGrid(grid_params))):\n",
    "    model = generate_model(param)\n",
    "    score = cross_val_score(model, X, y, cv=cv, scoring=macro_f1_score, n_jobs=1).mean()\n",
    "    all_results.append({'param':param, 'score':score})\n",
    "    \n",
    "    now_best = max(all_results, key = lambda x: x['score'])\n",
    "    if best_score < now_best['score']:\n",
    "        best_param = now_best['param']\n",
    "        best_score = now_best['score']\n",
    "        print(f\"BEST PARAMS {best_param}\")\n",
    "        print(f\"BEST SCORE {best_score}\")"
   ]
  },
  {
   "cell_type": "code",
   "execution_count": 8,
   "metadata": {
    "ExecuteTime": {
     "end_time": "2019-12-15T01:32:45.633054Z",
     "start_time": "2019-12-15T01:32:45.629280Z"
    }
   },
   "outputs": [
    {
     "data": {
      "text/plain": [
       "({'C': 10,\n",
       "  'analyzer': 'char_wb',\n",
       "  'max_features': 3000,\n",
       "  'min_df': 5,\n",
       "  'range_max': 4,\n",
       "  'range_min': 4},\n",
       " 0.7472822927960888)"
      ]
     },
     "execution_count": 8,
     "metadata": {},
     "output_type": "execute_result"
    }
   ],
   "source": [
    "best_param, best_score"
   ]
  },
  {
   "cell_type": "code",
   "execution_count": 10,
   "metadata": {
    "ExecuteTime": {
     "end_time": "2019-12-15T05:38:57.808687Z",
     "start_time": "2019-12-15T04:57:26.590167Z"
    }
   },
   "outputs": [
    {
     "name": "stderr",
     "output_type": "stream",
     "text": [
      "/Users/kirilltusin/.local/share/virtualenvs/DataScience-GrVxlVPs/lib/python3.7/site-packages/ipykernel_launcher.py:14: TqdmDeprecationWarning: This function will be removed in tqdm==5.0.0\n",
      "Please use `tqdm.notebook.tqdm` instead of `tqdm.tqdm_notebook`\n",
      "  \n"
     ]
    },
    {
     "data": {
      "application/vnd.jupyter.widget-view+json": {
       "model_id": "da0ac56ac9ad4997b11379bc99b33998",
       "version_major": 2,
       "version_minor": 0
      },
      "text/plain": [
       "HBox(children=(FloatProgress(value=0.0, max=108.0), HTML(value='')))"
      ]
     },
     "metadata": {},
     "output_type": "display_data"
    },
    {
     "name": "stdout",
     "output_type": "stream",
     "text": [
      "BEST PARAMS {'C': 1, 'analyzer': 'char_wb', 'max_features': 5000, 'min_df': 5, 'range_max': 4, 'range_min': 3}\n",
      "BEST SCORE 0.7333157497730335\n",
      "BEST PARAMS {'C': 1, 'analyzer': 'char_wb', 'max_features': 5000, 'min_df': 5, 'range_max': 4, 'range_min': 4}\n",
      "BEST SCORE 0.7404586000794587\n",
      "BEST PARAMS {'C': 1, 'analyzer': 'char_wb', 'max_features': 7500, 'min_df': 5, 'range_max': 4, 'range_min': 4}\n",
      "BEST SCORE 0.7405718897778643\n",
      "BEST PARAMS {'C': 1, 'analyzer': 'char_wb', 'max_features': 10000, 'min_df': 5, 'range_max': 4, 'range_min': 3}\n",
      "BEST SCORE 0.7414298826102049\n",
      "BEST PARAMS {'C': 10, 'analyzer': 'char_wb', 'max_features': 5000, 'min_df': 5, 'range_max': 4, 'range_min': 3}\n",
      "BEST SCORE 0.7571474958511871\n",
      "BEST PARAMS {'C': 10, 'analyzer': 'char_wb', 'max_features': 5000, 'min_df': 5, 'range_max': 4, 'range_min': 4}\n",
      "BEST SCORE 0.7585485363575764\n",
      "BEST PARAMS {'C': 10, 'analyzer': 'char_wb', 'max_features': 7500, 'min_df': 5, 'range_max': 4, 'range_min': 3}\n",
      "BEST SCORE 0.7620171014442544\n",
      "\n"
     ]
    }
   ],
   "source": [
    "grid_params = {\n",
    "    'analyzer': ['char_wb'],\n",
    "    'range_min': [3, 4],\n",
    "    'range_max': [4, 5, 6],\n",
    "    'min_df': range(5, 8),\n",
    "    'max_features': [5000, 7500, 10000],\n",
    "    'C': [1, 10],\n",
    "}\n",
    "N_FOLDS = 3\n",
    "cv = StratifiedKFold(n_splits=N_FOLDS, shuffle=True, random_state=42)\n",
    "all_results = []\n",
    "best_param = {}\n",
    "best_score = 0\n",
    "for param in tqdm_notebook(list(ParameterGrid(grid_params))):\n",
    "    model = generate_model(param)\n",
    "    score = cross_val_score(model, X, y, cv=cv, scoring=macro_f1_score, n_jobs=1).mean()\n",
    "    all_results.append({'param':param, 'score':score})\n",
    "    \n",
    "    now_best = max(all_results, key = lambda x: x['score'])\n",
    "    if best_score < now_best['score']:\n",
    "        best_param = now_best['param']\n",
    "        best_score = now_best['score']\n",
    "        print(f\"BEST PARAMS {best_param}\")\n",
    "        print(f\"BEST SCORE {best_score}\")"
   ]
  },
  {
   "cell_type": "code",
   "execution_count": 11,
   "metadata": {
    "ExecuteTime": {
     "end_time": "2019-12-15T05:38:58.165273Z",
     "start_time": "2019-12-15T05:38:58.160543Z"
    }
   },
   "outputs": [
    {
     "data": {
      "text/plain": [
       "({'C': 10,\n",
       "  'analyzer': 'char_wb',\n",
       "  'max_features': 7500,\n",
       "  'min_df': 5,\n",
       "  'range_max': 4,\n",
       "  'range_min': 3},\n",
       " 0.7620171014442544)"
      ]
     },
     "execution_count": 11,
     "metadata": {},
     "output_type": "execute_result"
    }
   ],
   "source": [
    "best_param, best_score"
   ]
  }
 ],
 "metadata": {
  "kernelspec": {
   "display_name": "Python 3",
   "language": "python",
   "name": "python3"
  },
  "language_info": {
   "codemirror_mode": {
    "name": "ipython",
    "version": 3
   },
   "file_extension": ".py",
   "mimetype": "text/x-python",
   "name": "python",
   "nbconvert_exporter": "python",
   "pygments_lexer": "ipython3",
   "version": "3.7.4"
  },
  "nbTranslate": {
   "displayLangs": [
    "*"
   ],
   "hotkey": "alt-t",
   "langInMainMenu": true,
   "sourceLang": "en",
   "targetLang": "fr",
   "useGoogleTranslate": true
  },
  "toc": {
   "base_numbering": 1,
   "nav_menu": {},
   "number_sections": true,
   "sideBar": true,
   "skip_h1_title": false,
   "title_cell": "Table of Contents",
   "title_sidebar": "Contents",
   "toc_cell": false,
   "toc_position": {},
   "toc_section_display": true,
   "toc_window_display": false
  },
  "varInspector": {
   "cols": {
    "lenName": 16,
    "lenType": 16,
    "lenVar": 40
   },
   "kernels_config": {
    "python": {
     "delete_cmd_postfix": "",
     "delete_cmd_prefix": "del ",
     "library": "var_list.py",
     "varRefreshCmd": "print(var_dic_list())"
    },
    "r": {
     "delete_cmd_postfix": ") ",
     "delete_cmd_prefix": "rm(",
     "library": "var_list.r",
     "varRefreshCmd": "cat(var_dic_list()) "
    }
   },
   "types_to_exclude": [
    "module",
    "function",
    "builtin_function_or_method",
    "instance",
    "_Feature"
   ],
   "window_display": false
  }
 },
 "nbformat": 4,
 "nbformat_minor": 2
}
