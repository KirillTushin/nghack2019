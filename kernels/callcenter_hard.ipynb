{
 "cells": [
  {
   "cell_type": "code",
   "execution_count": 3,
   "metadata": {
    "ExecuteTime": {
     "end_time": "2019-12-15T09:07:53.987646Z",
     "start_time": "2019-12-15T09:07:53.985178Z"
    }
   },
   "outputs": [],
   "source": [
    "import sklearn.linear_model._logistic"
   ]
  },
  {
   "cell_type": "code",
   "execution_count": 1,
   "metadata": {
    "ExecuteTime": {
     "end_time": "2019-12-15T00:45:10.136103Z",
     "start_time": "2019-12-15T00:45:09.286452Z"
    }
   },
   "outputs": [
    {
     "name": "stderr",
     "output_type": "stream",
     "text": [
      "/Users/kirilltusin/.local/share/virtualenvs/DataScience-GrVxlVPs/lib/python3.7/site-packages/lightgbm/__init__.py:46: UserWarning: Starting from version 2.2.1, the library file in distribution wheels for macOS is built by the Apple Clang (Xcode_9.4.1) compiler.\n",
      "This means that in case of installing LightGBM from PyPI via the ``pip install lightgbm`` command, you don't need to install the gcc compiler anymore.\n",
      "Instead of that, you need to install the OpenMP library, which is required for running LightGBM on the system with the Apple Clang compiler.\n",
      "You can install the OpenMP library by the following command: ``brew install libomp``.\n",
      "  \"You can install the OpenMP library by the following command: ``brew install libomp``.\", UserWarning)\n"
     ]
    }
   ],
   "source": [
    "import pandas as pd\n",
    "import numpy as np\n",
    "from sklearn.model_selection import StratifiedKFold\n",
    "import catboost\n",
    "import lightgbm\n",
    "import xgboost\n",
    "from scipy.stats import rankdata\n",
    "from sklearn.metrics import f1_score, make_scorer\n",
    "\n",
    "%matplotlib inline\n",
    "pd.set_option('max.columns', 999)\n",
    "pd.set_option('max.rows', 999)"
   ]
  },
  {
   "cell_type": "code",
   "execution_count": 18,
   "metadata": {
    "ExecuteTime": {
     "end_time": "2019-12-15T00:48:22.750143Z",
     "start_time": "2019-12-15T00:48:22.746493Z"
    }
   },
   "outputs": [],
   "source": [
    "macro_f1_score = make_scorer(f1_score, average='macro')\n",
    "\n",
    "def custom_f1_lgbm(preds, train_data):\n",
    "    ## eval_name, eval_result, is_higher_better\n",
    "    return 'F1', f1_score(train_data.label, preds > 0.5), False\n",
    "\n",
    "def custom_f1_xgb(preds, train_data):\n",
    "    ## eval_name, eval_result, is_higher_better\n",
    "    return 'F1', f1_score(train_data.get_label(), preds > 0.5)"
   ]
  },
  {
   "cell_type": "code",
   "execution_count": 3,
   "metadata": {
    "ExecuteTime": {
     "end_time": "2019-12-15T00:45:10.481659Z",
     "start_time": "2019-12-15T00:45:10.417791Z"
    }
   },
   "outputs": [],
   "source": [
    "train = pd.read_csv('../data/callcenter_train.csv', index_col='id')\n",
    "time_columns = [\n",
    "    'Время окончания разговора с оператором',\n",
    "    'Время переключения на оператора',\n",
    "    'Время постановки в очередь',\n",
    "    'Время окончания вызова',\n",
    "    'Время начала вызова',\n",
    "]"
   ]
  },
  {
   "cell_type": "code",
   "execution_count": 4,
   "metadata": {
    "ExecuteTime": {
     "end_time": "2019-12-15T00:45:17.155942Z",
     "start_time": "2019-12-15T00:45:10.735648Z"
    }
   },
   "outputs": [],
   "source": [
    "for col in time_columns:\n",
    "    train[col] = train[col].apply(pd.Timestamp) - pd.Timestamp('00:00:00')\n",
    "    train[col] = train[col].fillna(pd.Timestamp('00:00:00') - pd.Timestamp('00:00:00'))"
   ]
  },
  {
   "cell_type": "code",
   "execution_count": 5,
   "metadata": {
    "ExecuteTime": {
     "end_time": "2019-12-15T00:45:17.454593Z",
     "start_time": "2019-12-15T00:45:17.435499Z"
    }
   },
   "outputs": [],
   "source": [
    "for i, col_1 in enumerate(time_columns[:-1]):\n",
    "    for col_2 in time_columns[i + 1:]:\n",
    "        train[f'{col_1}-{col_2}'] = abs(train[col_1] - train[col_2])"
   ]
  },
  {
   "cell_type": "code",
   "execution_count": 6,
   "metadata": {
    "ExecuteTime": {
     "end_time": "2019-12-15T00:45:21.837486Z",
     "start_time": "2019-12-15T00:45:17.865705Z"
    },
    "scrolled": true
   },
   "outputs": [],
   "source": [
    "for col in train.columns.drop(['Метка', 'Длительность разговора с оператором, сек']):\n",
    "    train[f'{col}_seconds'] = train[col].apply(lambda x: x.seconds)"
   ]
  },
  {
   "cell_type": "code",
   "execution_count": 7,
   "metadata": {
    "ExecuteTime": {
     "end_time": "2019-12-15T00:45:22.399273Z",
     "start_time": "2019-12-15T00:45:22.382657Z"
    }
   },
   "outputs": [],
   "source": [
    "new_train = train[\n",
    "    ['Метка', 'Длительность разговора с оператором, сек'] + [x for x in train.columns if 'seconds' in x]\n",
    "]"
   ]
  },
  {
   "cell_type": "code",
   "execution_count": 8,
   "metadata": {
    "ExecuteTime": {
     "end_time": "2019-12-15T00:45:23.099896Z",
     "start_time": "2019-12-15T00:45:23.094408Z"
    }
   },
   "outputs": [],
   "source": [
    "N_SPLITS = 5\n",
    "SEED = 42\n",
    "valid_target = new_train[['Метка']].copy()\n",
    "cv = StratifiedKFold(N_SPLITS, shuffle=True, random_state=SEED)"
   ]
  },
  {
   "cell_type": "code",
   "execution_count": 9,
   "metadata": {
    "ExecuteTime": {
     "end_time": "2019-12-15T00:45:23.840682Z",
     "start_time": "2019-12-15T00:45:23.837052Z"
    }
   },
   "outputs": [],
   "source": [
    "def get_thresh(label, pred):\n",
    "    all_thresh = np.linspace(pred.min(), pred.max(), 100)\n",
    "    results = [(th, f1_score(label, pred > th)) for th in all_thresh]\n",
    "    return max(results, key=lambda x: x[1])"
   ]
  },
  {
   "cell_type": "markdown",
   "metadata": {
    "ExecuteTime": {
     "end_time": "2019-12-14T14:27:26.244811Z",
     "start_time": "2019-12-14T14:27:26.242419Z"
    }
   },
   "source": [
    "## CatBoost"
   ]
  },
  {
   "cell_type": "code",
   "execution_count": 11,
   "metadata": {
    "ExecuteTime": {
     "end_time": "2019-12-15T00:46:01.501664Z",
     "start_time": "2019-12-15T00:45:30.360911Z"
    }
   },
   "outputs": [
    {
     "name": "stdout",
     "output_type": "stream",
     "text": [
      "START 0 FOLD\n",
      "START 1 FOLD\n",
      "START 2 FOLD\n",
      "START 3 FOLD\n",
      "START 4 FOLD\n",
      "VALIDATION CATBOOST THRESH: 0.6464761233947054\n",
      "VALIDATION CATBOOST SCORE: 0.8097818784431405\n"
     ]
    }
   ],
   "source": [
    "models_catboost = []\n",
    "valid_target['oof_prediction_catboost'] = 0\n",
    "\n",
    "for i, (train_index, valid_index) in enumerate(cv.split(new_train.index, new_train['Метка'])):\n",
    "    print(f'START {i} FOLD')\n",
    "    \n",
    "    ## Create train, valid data pools\n",
    "    train_pool = catboost.Pool(\n",
    "        new_train.loc[train_index].drop('Метка', axis=1),\n",
    "        new_train.loc[train_index, 'Метка'],\n",
    "        thread_count = 1,\n",
    "    )\n",
    "    valid_pool = catboost.Pool(\n",
    "        new_train.loc[valid_index].drop('Метка', axis=1),\n",
    "        new_train.loc[valid_index, 'Метка'],\n",
    "        thread_count = 1,\n",
    "    )\n",
    "    ## train model\n",
    "    model = catboost.train(\n",
    "        params = {\n",
    "            'loss_function':'Logloss',\n",
    "            'custom_metric': 'F1',\n",
    "            'verbose': False,\n",
    "            'use_best_model': True,\n",
    "            'random_state': SEED,\n",
    "            'learning_rate': 0.03,\n",
    "        },\n",
    "        pool = train_pool,\n",
    "        eval_set = valid_pool,\n",
    "        iterations = 2000,\n",
    "        early_stopping_rounds=20,\n",
    "    )\n",
    "    \n",
    "    ## add model to list of models\n",
    "    models_catboost.append(model)\n",
    "    \n",
    "    ## predict valid\n",
    "    valid_target.loc[valid_index, 'oof_prediction_catboost'] = model.predict(\n",
    "        new_train.loc[valid_index].drop('Метка', axis=1)\n",
    "    )\n",
    "\n",
    "## show val score\n",
    "valid_target['oof_prediction_catboost'] = rankdata(valid_target['oof_prediction_catboost'])\n",
    "valid_target['oof_prediction_catboost'] = valid_target['oof_prediction_catboost']/valid_target['oof_prediction_catboost'].max()\n",
    "\n",
    "thresh_cat, val_score_cat = get_thresh(valid_target['Метка'], valid_target['oof_prediction_catboost'])\n",
    "print(f'VALIDATION CATBOOST THRESH: {thresh_cat}')\n",
    "print(f'VALIDATION CATBOOST SCORE: {val_score_cat}')"
   ]
  },
  {
   "cell_type": "markdown",
   "metadata": {},
   "source": [
    "### Lightgbm"
   ]
  },
  {
   "cell_type": "code",
   "execution_count": 20,
   "metadata": {
    "ExecuteTime": {
     "end_time": "2019-12-15T00:48:39.382390Z",
     "start_time": "2019-12-15T00:48:36.735076Z"
    }
   },
   "outputs": [
    {
     "name": "stdout",
     "output_type": "stream",
     "text": [
      "START 0 FOLD\n",
      "START 1 FOLD\n",
      "START 2 FOLD\n",
      "START 3 FOLD\n",
      "START 4 FOLD\n",
      "VALIDATION LIGHtGBM THRESH: 0.6506003204898233\n",
      "VALIDATION LIGHtGBM SCORE: 0.8070097406929679\n"
     ]
    }
   ],
   "source": [
    "models_lgbm = []\n",
    "valid_target['oof_prediction_lightgbm'] = 0\n",
    "\n",
    "for i, (train_index, valid_index) in enumerate(cv.split(new_train, new_train['Метка'])):\n",
    "    print(f'START {i} FOLD')\n",
    "    \n",
    "    ## Create train, valid data sets\n",
    "    train_set = lightgbm.Dataset(\n",
    "        new_train.loc[train_index].drop('Метка', axis=1),\n",
    "        new_train.loc[train_index, 'Метка'],\n",
    "    )\n",
    "    valid_set = lightgbm.Dataset(\n",
    "        new_train.loc[valid_index].drop('Метка', axis=1),\n",
    "        new_train.loc[valid_index, 'Метка'],\n",
    "    )\n",
    "    ## train model\n",
    "    model = lightgbm.train(\n",
    "        params = {\n",
    "            'loss_function':'logloss',\n",
    "            'learning_rate': 0.01,\n",
    "            'random_state': SEED,\n",
    "        },\n",
    "        train_set = train_set,\n",
    "        valid_sets = valid_set,\n",
    "        feval = custom_f1_lgbm,\n",
    "        num_boost_round = 2000,\n",
    "        early_stopping_rounds = 20,\n",
    "        verbose_eval = False,\n",
    "    )\n",
    "    \n",
    "    ## add model to list of models\n",
    "    models_lgbm.append(model)\n",
    "    \n",
    "    ## predict valid\n",
    "    valid_target.loc[valid_index, 'oof_prediction_lightgbm'] = model.predict(\n",
    "        new_train.loc[valid_index].drop('Метка', axis=1)\n",
    "    )\n",
    "    \n",
    "## show val score\n",
    "valid_target['oof_prediction_lightgbm'] = rankdata(valid_target['oof_prediction_lightgbm'])\n",
    "valid_target['oof_prediction_lightgbm'] = valid_target['oof_prediction_lightgbm']/valid_target['oof_prediction_lightgbm'].max()\n",
    "\n",
    "thresh_lgbm, val_score_lgbm = get_thresh(valid_target['Метка'], valid_target['oof_prediction_lightgbm'])\n",
    "print(f'VALIDATION LIGHtGBM THRESH: {thresh_lgbm}')\n",
    "print(f'VALIDATION LIGHtGBM SCORE: {val_score_lgbm}')"
   ]
  },
  {
   "cell_type": "markdown",
   "metadata": {},
   "source": [
    "### Xgboost"
   ]
  },
  {
   "cell_type": "code",
   "execution_count": 21,
   "metadata": {
    "ExecuteTime": {
     "end_time": "2019-12-15T00:48:56.163383Z",
     "start_time": "2019-12-15T00:48:43.681487Z"
    },
    "scrolled": true
   },
   "outputs": [
    {
     "name": "stdout",
     "output_type": "stream",
     "text": [
      "START 0 FOLD\n"
     ]
    },
    {
     "name": "stderr",
     "output_type": "stream",
     "text": [
      "/Users/kirilltusin/.local/share/virtualenvs/DataScience-GrVxlVPs/lib/python3.7/site-packages/xgboost/core.py:587: FutureWarning: Series.base is deprecated and will be removed in a future version\n",
      "  if getattr(data, 'base', None) is not None and \\\n"
     ]
    },
    {
     "name": "stdout",
     "output_type": "stream",
     "text": [
      "START 1 FOLD\n",
      "START 2 FOLD\n",
      "START 3 FOLD\n",
      "START 4 FOLD\n",
      "VALIDATION XGBOOST THRESH: 0.6574467467009464\n",
      "VALIDATION XGBOOST SCORE: 0.8037966101694916\n"
     ]
    }
   ],
   "source": [
    "models_xgb = []\n",
    "valid_target['oof_prediction_xgboost'] = 0\n",
    "\n",
    "for i, (train_index, valid_index) in enumerate(cv.split(new_train, new_train['Метка'])):\n",
    "    print(f'START {i} FOLD')\n",
    "    \n",
    "    ## Create train, valid data sets\n",
    "    train_set = xgboost.DMatrix(\n",
    "        new_train.loc[train_index].drop('Метка', axis=1),\n",
    "        new_train.loc[train_index, 'Метка'],\n",
    "    )\n",
    "    valid_set = [(\n",
    "        xgboost.DMatrix(\n",
    "            new_train.loc[valid_index].drop('Метка', axis=1),\n",
    "            new_train.loc[valid_index, 'Метка'],\n",
    "        ),\n",
    "        'valid'\n",
    "    )]\n",
    " \n",
    "    ## train model\n",
    "    model = xgboost.train(\n",
    "        params = {\n",
    "            'loss_function':'logloss',\n",
    "            'max_depth': 10,\n",
    "            'random_state': SEED,\n",
    "            'learning_rate': 0.01,\n",
    "        },\n",
    "        dtrain = train_set,\n",
    "        evals = valid_set,\n",
    "        feval = custom_f1_xgb,\n",
    "        maximize = False,\n",
    "        num_boost_round = 2000,\n",
    "        early_stopping_rounds = 20,\n",
    "        verbose_eval = False,\n",
    "    )\n",
    "    \n",
    "    ## add model to list of models\n",
    "    models_xgb.append(model)\n",
    "    \n",
    "    ## predict valid\n",
    "    valid_target.loc[valid_index, 'oof_prediction_xgboost'] = model.predict(\n",
    "        xgboost.DMatrix(new_train.loc[valid_index].drop('Метка', axis=1))\n",
    "    )\n",
    "\n",
    "## show val score\n",
    "valid_target['oof_prediction_xgboost'] = rankdata(valid_target['oof_prediction_xgboost'])\n",
    "valid_target['oof_prediction_xgboost'] = valid_target['oof_prediction_xgboost']/valid_target['oof_prediction_xgboost'].max()\n",
    "\n",
    "thresh_xgb, val_score_xgb = get_thresh(valid_target['Метка'], valid_target['oof_prediction_xgboost'])\n",
    "print(f'VALIDATION XGBOOST THRESH: {thresh_xgb}')\n",
    "print(f'VALIDATION XGBOOST SCORE: {val_score_xgb}')"
   ]
  },
  {
   "cell_type": "code",
   "execution_count": 22,
   "metadata": {
    "ExecuteTime": {
     "end_time": "2019-12-15T00:48:57.573788Z",
     "start_time": "2019-12-15T00:48:57.571306Z"
    }
   },
   "outputs": [],
   "source": [
    "all_models = ['CATBOOST', 'LIGHTGBM', 'XGBOOST']"
   ]
  },
  {
   "cell_type": "markdown",
   "metadata": {},
   "source": [
    "## Validate score"
   ]
  },
  {
   "cell_type": "code",
   "execution_count": 23,
   "metadata": {
    "ExecuteTime": {
     "end_time": "2019-12-15T00:49:30.887660Z",
     "start_time": "2019-12-15T00:49:29.990514Z"
    }
   },
   "outputs": [
    {
     "name": "stdout",
     "output_type": "stream",
     "text": [
      "VALIDATION THRESH: 0.641025108038818\n",
      "VALIDATION SCORE: 0.8071583122971511\n"
     ]
    }
   ],
   "source": [
    "mean_prediction = valid_target[[f'oof_prediction_{model_name.lower()}' for model_name in all_models]].mean(axis=1)\n",
    "\n",
    "thresh, val_score = get_thresh(valid_target['Метка'], mean_prediction)\n",
    "\n",
    "print(f'VALIDATION THRESH: {thresh}')\n",
    "print(f'VALIDATION SCORE: {val_score}')"
   ]
  }
 ],
 "metadata": {
  "kernelspec": {
   "display_name": "Python 3",
   "language": "python",
   "name": "python3"
  },
  "language_info": {
   "codemirror_mode": {
    "name": "ipython",
    "version": 3
   },
   "file_extension": ".py",
   "mimetype": "text/x-python",
   "name": "python",
   "nbconvert_exporter": "python",
   "pygments_lexer": "ipython3",
   "version": "3.7.4"
  },
  "nbTranslate": {
   "displayLangs": [
    "*"
   ],
   "hotkey": "alt-t",
   "langInMainMenu": true,
   "sourceLang": "en",
   "targetLang": "fr",
   "useGoogleTranslate": true
  },
  "toc": {
   "base_numbering": 1,
   "nav_menu": {},
   "number_sections": true,
   "sideBar": true,
   "skip_h1_title": false,
   "title_cell": "Table of Contents",
   "title_sidebar": "Contents",
   "toc_cell": false,
   "toc_position": {},
   "toc_section_display": true,
   "toc_window_display": false
  },
  "varInspector": {
   "cols": {
    "lenName": 16,
    "lenType": 16,
    "lenVar": 40
   },
   "kernels_config": {
    "python": {
     "delete_cmd_postfix": "",
     "delete_cmd_prefix": "del ",
     "library": "var_list.py",
     "varRefreshCmd": "print(var_dic_list())"
    },
    "r": {
     "delete_cmd_postfix": ") ",
     "delete_cmd_prefix": "rm(",
     "library": "var_list.r",
     "varRefreshCmd": "cat(var_dic_list()) "
    }
   },
   "types_to_exclude": [
    "module",
    "function",
    "builtin_function_or_method",
    "instance",
    "_Feature"
   ],
   "window_display": false
  }
 },
 "nbformat": 4,
 "nbformat_minor": 2
}
