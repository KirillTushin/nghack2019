{
 "cells": [
  {
   "cell_type": "code",
   "execution_count": 12,
   "metadata": {
    "ExecuteTime": {
     "end_time": "2019-12-15T14:56:50.236856Z",
     "start_time": "2019-12-15T14:56:50.229579Z"
    },
    "scrolled": false
   },
   "outputs": [
    {
     "data": {
      "text/plain": [
       "array(['нет ошибки', 'тся-ться', 'тся-ться без пар', 'н-нн',\n",
       "       'опечатки из списка', 'опечатки прочие', 'в течение', 'не/ни-1',\n",
       "       'не/ни-2', 'не/ни-3', 'не,ни-4', 'тоже, чтоб', 'из-за', 'то, таки',\n",
       "       'пробел в наречиях', 'пропуск предлога', 'сложное слово'],\n",
       "      dtype=object)"
      ]
     },
     "execution_count": 12,
     "metadata": {},
     "output_type": "execute_result"
    }
   ],
   "source": [
    "import pandas as pd\n",
    "pd.read_csv('../data/grammar_train.csv')['mistake_type'].unique()"
   ]
  },
  {
   "cell_type": "code",
   "execution_count": 2,
   "metadata": {
    "ExecuteTime": {
     "end_time": "2019-12-15T14:53:23.117521Z",
     "start_time": "2019-12-15T14:53:23.113805Z"
    }
   },
   "outputs": [],
   "source": [
    "token_1, token_2 = 'тоже', 'то же'"
   ]
  },
  {
   "cell_type": "code",
   "execution_count": 3,
   "metadata": {
    "ExecuteTime": {
     "end_time": "2019-12-15T14:53:25.354081Z",
     "start_time": "2019-12-15T14:53:23.120118Z"
    }
   },
   "outputs": [],
   "source": [
    "data = pd.read_csv('../grammar_example_data.csv', index_col='Unnamed: 0')\n",
    "data = data[data['y'] == 1]\n",
    "data['x'] = data['x'].str.lower()"
   ]
  },
  {
   "cell_type": "code",
   "execution_count": 4,
   "metadata": {
    "ExecuteTime": {
     "end_time": "2019-12-15T14:53:25.508687Z",
     "start_time": "2019-12-15T14:53:25.356654Z"
    }
   },
   "outputs": [],
   "source": [
    "data = data[data['x'].apply(lambda x: token_1 in x or token_2 in x)].reset_index(drop=True)"
   ]
  },
  {
   "cell_type": "code",
   "execution_count": 5,
   "metadata": {
    "ExecuteTime": {
     "end_time": "2019-12-15T14:53:25.515654Z",
     "start_time": "2019-12-15T14:53:25.510673Z"
    }
   },
   "outputs": [],
   "source": [
    "data.loc[:data.shape[0]//2, 'y'] = 0"
   ]
  },
  {
   "cell_type": "code",
   "execution_count": 6,
   "metadata": {
    "ExecuteTime": {
     "end_time": "2019-12-15T14:53:25.558424Z",
     "start_time": "2019-12-15T14:53:25.519589Z"
    }
   },
   "outputs": [],
   "source": [
    "def change(text):\n",
    "    if token_1 in text: \n",
    "        return text.replace(token_1, token_2)\n",
    "    if token_2 in text:\n",
    "        return text.replace(token_2, token_1)\n",
    "    return text\n",
    "\n",
    "data.loc[:data.shape[0]//2, 'x'] = data.loc[:data.shape[0]//2, 'x'].apply(change)"
   ]
  },
  {
   "cell_type": "code",
   "execution_count": 7,
   "metadata": {
    "ExecuteTime": {
     "end_time": "2019-12-15T14:53:25.584968Z",
     "start_time": "2019-12-15T14:53:25.562396Z"
    }
   },
   "outputs": [],
   "source": [
    "data.to_csv(f'../data_2_task/data_2_task_{token_1}_{token_2}.csv')"
   ]
  },
  {
   "cell_type": "code",
   "execution_count": 8,
   "metadata": {
    "ExecuteTime": {
     "end_time": "2019-12-15T14:53:25.590399Z",
     "start_time": "2019-12-15T14:53:25.587312Z"
    }
   },
   "outputs": [
    {
     "name": "stdout",
     "output_type": "stream",
     "text": [
      "(2744, 2)\n"
     ]
    }
   ],
   "source": [
    "print(data.shape)"
   ]
  }
 ],
 "metadata": {
  "kernelspec": {
   "display_name": "Python 3",
   "language": "python",
   "name": "python3"
  },
  "language_info": {
   "codemirror_mode": {
    "name": "ipython",
    "version": 3
   },
   "file_extension": ".py",
   "mimetype": "text/x-python",
   "name": "python",
   "nbconvert_exporter": "python",
   "pygments_lexer": "ipython3",
   "version": "3.6.9"
  },
  "nbTranslate": {
   "displayLangs": [
    "*"
   ],
   "hotkey": "alt-t",
   "langInMainMenu": true,
   "sourceLang": "en",
   "targetLang": "fr",
   "useGoogleTranslate": true
  },
  "toc": {
   "base_numbering": 1,
   "nav_menu": {},
   "number_sections": true,
   "sideBar": true,
   "skip_h1_title": false,
   "title_cell": "Table of Contents",
   "title_sidebar": "Contents",
   "toc_cell": false,
   "toc_position": {},
   "toc_section_display": true,
   "toc_window_display": false
  },
  "varInspector": {
   "cols": {
    "lenName": 16,
    "lenType": 16,
    "lenVar": 40
   },
   "kernels_config": {
    "python": {
     "delete_cmd_postfix": "",
     "delete_cmd_prefix": "del ",
     "library": "var_list.py",
     "varRefreshCmd": "print(var_dic_list())"
    },
    "r": {
     "delete_cmd_postfix": ") ",
     "delete_cmd_prefix": "rm(",
     "library": "var_list.r",
     "varRefreshCmd": "cat(var_dic_list()) "
    }
   },
   "types_to_exclude": [
    "module",
    "function",
    "builtin_function_or_method",
    "instance",
    "_Feature"
   ],
   "window_display": false
  }
 },
 "nbformat": 4,
 "nbformat_minor": 2
}
