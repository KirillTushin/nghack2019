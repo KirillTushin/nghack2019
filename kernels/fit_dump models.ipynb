{
 "cells": [
  {
   "cell_type": "code",
   "execution_count": 1,
   "metadata": {
    "ExecuteTime": {
     "end_time": "2019-12-15T12:46:34.009426Z",
     "start_time": "2019-12-15T12:46:33.218867Z"
    },
    "scrolled": true
   },
   "outputs": [],
   "source": [
    "import pandas as pd\n",
    "from tqdm import tqdm_notebook\n",
    "from sklearn.externals import joblib\n",
    "from sklearn.feature_extraction.text import TfidfVectorizer\n",
    "from sklearn.pipeline import Pipeline\n",
    "from sklearn.linear_model import LogisticRegression\n",
    "from sklearn.model_selection import StratifiedKFold\n",
    "from catboost import CatBoostClassifier"
   ]
  },
  {
   "cell_type": "code",
   "execution_count": 2,
   "metadata": {
    "ExecuteTime": {
     "end_time": "2019-12-15T12:46:34.136681Z",
     "start_time": "2019-12-15T12:46:34.011131Z"
    }
   },
   "outputs": [
    {
     "name": "stdout",
     "output_type": "stream",
     "text": [
      "{'FAQ - тарифы и услуги': 0, 'мобильная связь - тарифы': 1, 'Мобильный интернет': 2, 'FAQ - интернет': 3, 'тарифы - подбор': 4, 'Баланс': 5, 'Мобильные услуги': 6, 'Оплата': 7, 'Личный кабинет': 8, 'SIM-карта и номер': 9, 'Роуминг': 10, 'запрос обратной связи': 11, 'Устройства': 12, 'мобильная связь - зона обслуживания': 13}\n",
      "{'positive': 0, 'neutral': 1, 'negative': 2}\n"
     ]
    }
   ],
   "source": [
    "## Load data\n",
    "intent_train = pd.read_csv('../data/intent_train.csv')\n",
    "intent_label_map = {label:i for i, label in enumerate(intent_train['label'].unique())}\n",
    "print(intent_label_map)\n",
    "\n",
    "support_train = pd.read_csv('../data/support_train.csv')\n",
    "support_label_map = {label:i for i, label in enumerate(support_train['label'].unique())}\n",
    "print(support_label_map)\n",
    "\n",
    "callcenter_train = pd.read_csv('../data/callcenter_train.csv', index_col='id')"
   ]
  },
  {
   "cell_type": "code",
   "execution_count": 3,
   "metadata": {
    "ExecuteTime": {
     "end_time": "2019-12-15T12:46:43.369862Z",
     "start_time": "2019-12-15T12:46:34.139463Z"
    }
   },
   "outputs": [],
   "source": [
    "## Prepare data\n",
    "X_intent = intent_train['text'].fillna('none').str.lower()\n",
    "y_intent = intent_train['label'].map(intent_label_map)\n",
    "\n",
    "X_support = support_train['text'].fillna('none').str.lower()\n",
    "y_support = support_train['label'].map(support_label_map)\n",
    "\n",
    "time_columns = [\n",
    "    'Время окончания разговора с оператором',\n",
    "    'Время переключения на оператора',\n",
    "    'Время постановки в очередь',\n",
    "    'Время окончания вызова',\n",
    "    'Время начала вызова',\n",
    "]\n",
    "\n",
    "null_columns = [\n",
    "    'Время постановки в очередь',\n",
    "    'Время переключения на оператора',\n",
    "    'Время окончания разговора с оператором',\n",
    "    'Длительность разговора с оператором, сек',\n",
    "]\n",
    "for col in null_columns:\n",
    "    callcenter_train[f'{col}_isna'] = callcenter_train[col].isna()\n",
    "null_columns = [f'{col}_isna' for col in null_columns]\n",
    "\n",
    "start_time = pd.Timestamp('00:00:00')\n",
    "\n",
    "for col in time_columns:\n",
    "    callcenter_train[col] = callcenter_train[col].fillna(start_time)\n",
    "    callcenter_train[col] = callcenter_train[col].apply(pd.Timestamp) - start_time\n",
    "    \n",
    "for i, col_1 in enumerate(time_columns[:-1]):\n",
    "    for col_2 in time_columns[i + 1:]:\n",
    "        callcenter_train[f'{col_1}-{col_2}'] = abs(callcenter_train[col_1] - callcenter_train[col_2])\n",
    "\n",
    "for col in callcenter_train.columns.drop(['Метка', 'Длительность разговора с оператором, сек'] + null_columns):\n",
    "    callcenter_train[f'{col}_seconds'] = callcenter_train[col].apply(lambda x: x.seconds)\n",
    "\n",
    "use_columns = [\n",
    "       'Длительность разговора с оператором, сек',\n",
    "       'Время постановки в очередь_isna',\n",
    "       'Время переключения на оператора_isna',\n",
    "       'Время окончания разговора с оператором_isna',\n",
    "       'Длительность разговора с оператором, сек_isna',\n",
    "       'Время начала вызова_seconds', 'Время окончания вызова_seconds',\n",
    "       'Время постановки в очередь_seconds',\n",
    "       'Время переключения на оператора_seconds',\n",
    "       'Время окончания разговора с оператором_seconds',\n",
    "       'Время окончания разговора с оператором-Время переключения на оператора_seconds',\n",
    "       'Время окончания разговора с оператором-Время постановки в очередь_seconds',\n",
    "       'Время окончания разговора с оператором-Время окончания вызова_seconds',\n",
    "       'Время окончания разговора с оператором-Время начала вызова_seconds',\n",
    "       'Время переключения на оператора-Время постановки в очередь_seconds',\n",
    "       'Время переключения на оператора-Время окончания вызова_seconds',\n",
    "       'Время переключения на оператора-Время начала вызова_seconds',\n",
    "       'Время постановки в очередь-Время окончания вызова_seconds',\n",
    "       'Время постановки в очередь-Время начала вызова_seconds',\n",
    "       'Время окончания вызова-Время начала вызова_seconds'\n",
    "    ]\n",
    "\n",
    "X_callcenter = callcenter_train[use_columns]\n",
    "y_callcenter = callcenter_train['Метка']"
   ]
  },
  {
   "cell_type": "code",
   "execution_count": 4,
   "metadata": {
    "ExecuteTime": {
     "end_time": "2019-12-15T12:46:43.377199Z",
     "start_time": "2019-12-15T12:46:43.372385Z"
    }
   },
   "outputs": [],
   "source": [
    "def generate_model(params):\n",
    "    tfidf = TfidfVectorizer(\n",
    "        analyzer=params['analyzer'], \n",
    "        ngram_range=(params['range_min'], params['range_max']),\n",
    "        min_df=params['min_df'],\n",
    "        max_features=params['max_features'],\n",
    "    )\n",
    "    lr = LogisticRegression(\n",
    "        C = params['C'],\n",
    "        solver='liblinear',\n",
    "        class_weight='balanced',\n",
    "        random_state=42,\n",
    "        n_jobs=1,\n",
    "    )\n",
    "    return Pipeline([('tfidf', tfidf), ('lr', lr)])"
   ]
  },
  {
   "cell_type": "code",
   "execution_count": 5,
   "metadata": {
    "ExecuteTime": {
     "end_time": "2019-12-15T12:46:43.384898Z",
     "start_time": "2019-12-15T12:46:43.379069Z"
    }
   },
   "outputs": [],
   "source": [
    "## Fit all models\n",
    "intent_params = {\n",
    "    'C': 10,\n",
    "    'analyzer': 'char_wb',\n",
    "    'max_features': 7500,\n",
    "    'min_df': 5,\n",
    "    'range_max': 4,\n",
    "    'range_min': 3,\n",
    "}\n",
    "support_params = {\n",
    "    'C': 1,\n",
    "    'analyzer': 'char',\n",
    "    'max_features': 10000,\n",
    "    'min_df': 7,\n",
    "    'range_max': 4,\n",
    "    'range_min': 4,\n",
    "}\n",
    "callcenter_params = {\n",
    "    'loss_function': 'Logloss',\n",
    "    'custom_metric': 'F1',\n",
    "    'iterations': 2000,\n",
    "    'early_stopping_rounds': 20,\n",
    "    'verbose': False,\n",
    "    'random_state': 42,\n",
    "    'learning_rate': 0.03,\n",
    "    'border_count': 200,\n",
    "    'depth': 6,\n",
    "    'l2_leaf_reg': 3,\n",
    "}"
   ]
  },
  {
   "cell_type": "code",
   "execution_count": 6,
   "metadata": {
    "ExecuteTime": {
     "end_time": "2019-12-15T12:54:13.458808Z",
     "start_time": "2019-12-15T12:46:43.387270Z"
    }
   },
   "outputs": [
    {
     "name": "stderr",
     "output_type": "stream",
     "text": [
      "/opt/miniconda3/envs/nghack/lib/python3.6/site-packages/ipykernel_launcher.py:2: TqdmDeprecationWarning: This function will be removed in tqdm==5.0.0\n",
      "Please use `tqdm.notebook.tqdm` instead of `tqdm.tqdm_notebook`\n",
      "  \n"
     ]
    },
    {
     "data": {
      "application/vnd.jupyter.widget-view+json": {
       "model_id": "648a3c0dc7d7433a8d6439ed76d82dc9",
       "version_major": 2,
       "version_minor": 0
      },
      "text/plain": [
       "HBox(children=(FloatProgress(value=1.0, bar_style='info', max=1.0), HTML(value='')))"
      ]
     },
     "metadata": {},
     "output_type": "display_data"
    },
    {
     "name": "stdout",
     "output_type": "stream",
     "text": [
      "\n"
     ]
    },
    {
     "name": "stderr",
     "output_type": "stream",
     "text": [
      "/opt/miniconda3/envs/nghack/lib/python3.6/site-packages/ipykernel_launcher.py:7: TqdmDeprecationWarning: This function will be removed in tqdm==5.0.0\n",
      "Please use `tqdm.notebook.tqdm` instead of `tqdm.tqdm_notebook`\n",
      "  import sys\n"
     ]
    },
    {
     "data": {
      "application/vnd.jupyter.widget-view+json": {
       "model_id": "5c2ccd3100554ff9a67adc16b1e0b81d",
       "version_major": 2,
       "version_minor": 0
      },
      "text/plain": [
       "HBox(children=(FloatProgress(value=1.0, bar_style='info', max=1.0), HTML(value='')))"
      ]
     },
     "metadata": {},
     "output_type": "display_data"
    },
    {
     "name": "stdout",
     "output_type": "stream",
     "text": [
      "\n"
     ]
    },
    {
     "name": "stderr",
     "output_type": "stream",
     "text": [
      "/opt/miniconda3/envs/nghack/lib/python3.6/site-packages/ipykernel_launcher.py:12: TqdmDeprecationWarning: This function will be removed in tqdm==5.0.0\n",
      "Please use `tqdm.notebook.tqdm` instead of `tqdm.tqdm_notebook`\n",
      "  if sys.path[0] == '':\n"
     ]
    },
    {
     "data": {
      "application/vnd.jupyter.widget-view+json": {
       "model_id": "cd0c1aeb0ef442daa2fa922bfa9accb3",
       "version_major": 2,
       "version_minor": 0
      },
      "text/plain": [
       "HBox(children=(FloatProgress(value=1.0, bar_style='info', max=1.0), HTML(value='')))"
      ]
     },
     "metadata": {},
     "output_type": "display_data"
    },
    {
     "name": "stdout",
     "output_type": "stream",
     "text": [
      "\n"
     ]
    }
   ],
   "source": [
    "cv = StratifiedKFold(n_splits = 10 , shuffle=True, random_state=42)\n",
    "for i, (tr_index, val_index) in tqdm_notebook(enumerate(cv.split(X_intent, y_intent))):\n",
    "    intent_model = generate_model(intent_params)\n",
    "    intent_model.fit(X_intent.loc[tr_index], y_intent.loc[tr_index])\n",
    "    joblib.dump(intent_model, f'../solution/intent_model_fold_{i}')\n",
    "\n",
    "for i, (tr_index, val_index) in tqdm_notebook(enumerate(cv.split(X_support, y_support))):\n",
    "    support_model = generate_model(support_params)\n",
    "    support_model.fit(X_support.loc[tr_index], y_support.loc[tr_index])\n",
    "    joblib.dump(support_model, f'../solution/support_model_fold_{i}')\n",
    "\n",
    "for i, (tr_index, val_index) in tqdm_notebook(enumerate(cv.split(X_callcenter, y_callcenter))):\n",
    "    callcenter_model = CatBoostClassifier(**callcenter_params)\n",
    "    callcenter_model.fit(X_callcenter.loc[tr_index], y_callcenter.loc[tr_index])\n",
    "    joblib.dump(callcenter_model, f'../solution/callcenter_model_fold_{i}')"
   ]
  }
 ],
 "metadata": {
  "kernelspec": {
   "display_name": "Python 3",
   "language": "python",
   "name": "python3"
  },
  "language_info": {
   "codemirror_mode": {
    "name": "ipython",
    "version": 3
   },
   "file_extension": ".py",
   "mimetype": "text/x-python",
   "name": "python",
   "nbconvert_exporter": "python",
   "pygments_lexer": "ipython3",
   "version": "3.6.9"
  },
  "nbTranslate": {
   "displayLangs": [
    "*"
   ],
   "hotkey": "alt-t",
   "langInMainMenu": true,
   "sourceLang": "en",
   "targetLang": "fr",
   "useGoogleTranslate": true
  },
  "toc": {
   "base_numbering": 1,
   "nav_menu": {},
   "number_sections": true,
   "sideBar": true,
   "skip_h1_title": false,
   "title_cell": "Table of Contents",
   "title_sidebar": "Contents",
   "toc_cell": false,
   "toc_position": {},
   "toc_section_display": true,
   "toc_window_display": false
  },
  "varInspector": {
   "cols": {
    "lenName": 16,
    "lenType": 16,
    "lenVar": 40
   },
   "kernels_config": {
    "python": {
     "delete_cmd_postfix": "",
     "delete_cmd_prefix": "del ",
     "library": "var_list.py",
     "varRefreshCmd": "print(var_dic_list())"
    },
    "r": {
     "delete_cmd_postfix": ") ",
     "delete_cmd_prefix": "rm(",
     "library": "var_list.r",
     "varRefreshCmd": "cat(var_dic_list()) "
    }
   },
   "types_to_exclude": [
    "module",
    "function",
    "builtin_function_or_method",
    "instance",
    "_Feature"
   ],
   "window_display": false
  }
 },
 "nbformat": 4,
 "nbformat_minor": 2
}
