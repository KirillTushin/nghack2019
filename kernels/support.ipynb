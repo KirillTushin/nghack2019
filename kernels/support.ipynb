{
 "cells": [
  {
   "cell_type": "code",
   "execution_count": 1,
   "metadata": {
    "ExecuteTime": {
     "end_time": "2019-12-15T00:55:20.597768Z",
     "start_time": "2019-12-15T00:55:20.015984Z"
    }
   },
   "outputs": [],
   "source": [
    "import pandas as pd\n",
    "from tqdm import tqdm_notebook\n",
    "%matplotlib inline"
   ]
  },
  {
   "cell_type": "markdown",
   "metadata": {},
   "source": [
    "## Intent classification"
   ]
  },
  {
   "cell_type": "markdown",
   "metadata": {
    "ExecuteTime": {
     "end_time": "2019-12-14T22:21:51.091347Z",
     "start_time": "2019-12-14T22:21:51.088989Z"
    }
   },
   "source": [
    "### Imports"
   ]
  },
  {
   "cell_type": "code",
   "execution_count": 2,
   "metadata": {
    "ExecuteTime": {
     "end_time": "2019-12-15T00:55:21.071883Z",
     "start_time": "2019-12-15T00:55:20.600219Z"
    }
   },
   "outputs": [],
   "source": [
    "from sklearn.feature_extraction.text import TfidfVectorizer\n",
    "from sklearn.pipeline import Pipeline\n",
    "from sklearn.linear_model import LogisticRegression\n",
    "from sklearn.metrics import f1_score, make_scorer\n",
    "from sklearn.model_selection import cross_val_score, StratifiedKFold\n",
    "from sklearn.model_selection import ParameterGrid\n",
    "# from pymystem3 import Mystem"
   ]
  },
  {
   "cell_type": "code",
   "execution_count": 3,
   "metadata": {
    "ExecuteTime": {
     "end_time": "2019-12-15T00:55:21.077732Z",
     "start_time": "2019-12-15T00:55:21.074399Z"
    }
   },
   "outputs": [],
   "source": [
    "macro_f1_score = make_scorer(f1_score, average='macro')\n",
    "# mystem = Mystem(entire_input=False)\n",
    "# mystem.start()\n",
    "\n",
    "# def lematize(text):\n",
    "#     return ' '.join(mystem.lemmatize(text))"
   ]
  },
  {
   "cell_type": "markdown",
   "metadata": {},
   "source": [
    "### Data"
   ]
  },
  {
   "cell_type": "code",
   "execution_count": 7,
   "metadata": {
    "ExecuteTime": {
     "end_time": "2019-12-15T00:53:54.613361Z",
     "start_time": "2019-12-15T00:53:54.573027Z"
    }
   },
   "outputs": [
    {
     "data": {
      "text/plain": [
       "0        positive\n",
       "1        positive\n",
       "2        positive\n",
       "3        positive\n",
       "4        positive\n",
       "           ...   \n",
       "25801    negative\n",
       "25802    negative\n",
       "25803    negative\n",
       "25804    negative\n",
       "25805    negative\n",
       "Name: label, Length: 25806, dtype: object"
      ]
     },
     "execution_count": 7,
     "metadata": {},
     "output_type": "execute_result"
    }
   ],
   "source": [
    "train = pd.read_csv('../data/support_train.csv')"
   ]
  },
  {
   "cell_type": "code",
   "execution_count": 4,
   "metadata": {
    "ExecuteTime": {
     "end_time": "2019-12-15T00:55:21.403086Z",
     "start_time": "2019-12-15T00:55:21.081778Z"
    }
   },
   "outputs": [
    {
     "data": {
      "image/png": "[encoded data removed]",
      "text/plain": [
       "<Figure size 432x288 with 1 Axes>"
      ]
     },
     "metadata": {
      "needs_background": "light"
     },
     "output_type": "display_data"
    }
   ],
   "source": [
    "train = pd.read_csv('../data/support_train.csv')\n",
    "label_map = {label:i for i, label in enumerate(train['label'].unique())}\n",
    "train['label'].map(label_map).hist(bins=13)\n",
    "\n",
    "X = train['text'].fillna('none').str.lower()\n",
    "# X = X.apply(lematize)\n",
    "y = train['label'].map(label_map)"
   ]
  },
  {
   "cell_type": "markdown",
   "metadata": {
    "ExecuteTime": {
     "end_time": "2019-12-14T22:22:27.747540Z",
     "start_time": "2019-12-14T22:22:27.745024Z"
    }
   },
   "source": [
    "### Model"
   ]
  },
  {
   "cell_type": "code",
   "execution_count": 5,
   "metadata": {
    "ExecuteTime": {
     "end_time": "2019-12-15T00:55:21.410131Z",
     "start_time": "2019-12-15T00:55:21.405505Z"
    }
   },
   "outputs": [],
   "source": [
    "def generate_model(params):\n",
    "    tfidf = TfidfVectorizer(\n",
    "        analyzer=params['analyzer'], \n",
    "        ngram_range=(params['range_min'], params['range_max']),\n",
    "        min_df=params['min_df'],\n",
    "        max_features=params['max_features'],\n",
    "    )\n",
    "    lr = LogisticRegression(\n",
    "        C = params['C'],\n",
    "        multi_class='auto',\n",
    "        solver='liblinear',\n",
    "        class_weight='balanced',\n",
    "        random_state=42,\n",
    "        n_jobs=1,\n",
    "    )\n",
    "    return Pipeline([('tfidf', tfidf), ('lr', lr)])"
   ]
  },
  {
   "cell_type": "markdown",
   "metadata": {
    "ExecuteTime": {
     "end_time": "2019-12-14T22:18:55.608092Z",
     "start_time": "2019-12-14T22:18:55.604695Z"
    }
   },
   "source": [
    "### Find best params"
   ]
  },
  {
   "cell_type": "code",
   "execution_count": 7,
   "metadata": {
    "ExecuteTime": {
     "end_time": "2019-12-15T02:07:24.346290Z",
     "start_time": "2019-12-15T00:56:05.016111Z"
    },
    "scrolled": true
   },
   "outputs": [
    {
     "name": "stderr",
     "output_type": "stream",
     "text": [
      "/Users/kirilltusin/.local/share/virtualenvs/DataScience-GrVxlVPs/lib/python3.7/site-packages/ipykernel_launcher.py:14: TqdmDeprecationWarning: This function will be removed in tqdm==5.0.0\n",
      "Please use `tqdm.notebook.tqdm` instead of `tqdm.tqdm_notebook`\n",
      "  \n"
     ]
    },
    {
     "data": {
      "application/vnd.jupyter.widget-view+json": {
       "model_id": "46bb6d60a4ab47cfb92560a95271ea97",
       "version_major": 2,
       "version_minor": 0
      },
      "text/plain": [
       "HBox(children=(FloatProgress(value=0.0, max=432.0), HTML(value='')))"
      ]
     },
     "metadata": {},
     "output_type": "display_data"
    },
    {
     "name": "stdout",
     "output_type": "stream",
     "text": [
      "BEST PARAMS {'C': 1, 'analyzer': 'char', 'max_features': 1400, 'min_df': 7, 'range_max': 4, 'range_min': 3}\n",
      "BEST SCORE 0.4715612233595064\n",
      "BEST PARAMS {'C': 1, 'analyzer': 'char', 'max_features': 1400, 'min_df': 8, 'range_max': 4, 'range_min': 3}\n",
      "BEST SCORE 0.4717580928915385\n",
      "BEST PARAMS {'C': 1, 'analyzer': 'char', 'max_features': 1400, 'min_df': 10, 'range_max': 4, 'range_min': 3}\n",
      "BEST SCORE 0.4718857600460041\n",
      "BEST PARAMS {'C': 1, 'analyzer': 'char', 'max_features': 1700, 'min_df': 7, 'range_max': 4, 'range_min': 3}\n",
      "BEST SCORE 0.4739070474947336\n",
      "BEST PARAMS {'C': 1, 'analyzer': 'char', 'max_features': 1700, 'min_df': 11, 'range_max': 4, 'range_min': 3}\n",
      "BEST SCORE 0.4739845083943158\n",
      "BEST PARAMS {'C': 1, 'analyzer': 'char', 'max_features': 2000, 'min_df': 7, 'range_max': 4, 'range_min': 4}\n",
      "BEST SCORE 0.4758591051434132\n",
      "BEST PARAMS {'C': 1, 'analyzer': 'char', 'max_features': 2000, 'min_df': 8, 'range_max': 4, 'range_min': 4}\n",
      "BEST SCORE 0.4759714567625692\n",
      "BEST PARAMS {'C': 1, 'analyzer': 'char', 'max_features': 2000, 'min_df': 9, 'range_max': 4, 'range_min': 4}\n",
      "BEST SCORE 0.476334046600181\n",
      "BEST PARAMS {'C': 1, 'analyzer': 'char_wb', 'max_features': 1700, 'min_df': 7, 'range_max': 4, 'range_min': 4}\n",
      "BEST SCORE 0.47753710309440184\n",
      "BEST PARAMS {'C': 1, 'analyzer': 'char_wb', 'max_features': 1700, 'min_df': 8, 'range_max': 4, 'range_min': 4}\n",
      "BEST SCORE 0.4782795888073681\n",
      "BEST PARAMS {'C': 1, 'analyzer': 'char_wb', 'max_features': 2000, 'min_df': 7, 'range_max': 4, 'range_min': 4}\n",
      "BEST SCORE 0.4790736071764097\n",
      "BEST PARAMS {'C': 1, 'analyzer': 'char_wb', 'max_features': 2000, 'min_df': 8, 'range_max': 4, 'range_min': 4}\n",
      "BEST SCORE 0.4793920306329597\n",
      "BEST PARAMS {'C': 1, 'analyzer': 'char_wb', 'max_features': 2000, 'min_df': 9, 'range_max': 4, 'range_min': 4}\n",
      "BEST SCORE 0.47967204795466917\n",
      "\n"
     ]
    }
   ],
   "source": [
    "grid_params = {\n",
    "    'analyzer': ['char', 'char_wb'],\n",
    "    'range_min': [3, 4],\n",
    "    'range_max': [4, 5, 6],\n",
    "    'min_df': range(7, 13),\n",
    "    'max_features': [1400, 1700, 2000],\n",
    "    'C': [1, 1e-1],\n",
    "}\n",
    "N_FOLDS = 3\n",
    "cv = StratifiedKFold(n_splits=N_FOLDS, shuffle=True, random_state=42)\n",
    "all_results = []\n",
    "best_param = {}\n",
    "best_score = 0\n",
    "for param in tqdm_notebook(list(ParameterGrid(grid_params))):\n",
    "    model = generate_model(param)\n",
    "    score = cross_val_score(model, X, y, cv=cv, scoring=macro_f1_score, n_jobs=1).mean()\n",
    "    all_results.append({'param':param, 'score':score})\n",
    "    \n",
    "    now_best = max(all_results, key = lambda x: x['score'])\n",
    "    if best_score < now_best['score']:\n",
    "        best_param = now_best['param']\n",
    "        best_score = now_best['score']\n",
    "        print(f\"BEST PARAMS {best_param}\")\n",
    "        print(f\"BEST SCORE {best_score}\")"
   ]
  },
  {
   "cell_type": "code",
   "execution_count": 8,
   "metadata": {
    "ExecuteTime": {
     "end_time": "2019-12-15T04:56:34.815561Z",
     "start_time": "2019-12-15T04:56:34.811612Z"
    }
   },
   "outputs": [
    {
     "data": {
      "text/plain": [
       "({'C': 1,\n",
       "  'analyzer': 'char_wb',\n",
       "  'max_features': 2000,\n",
       "  'min_df': 9,\n",
       "  'range_max': 4,\n",
       "  'range_min': 4},\n",
       " 0.47967204795466917)"
      ]
     },
     "execution_count": 8,
     "metadata": {},
     "output_type": "execute_result"
    }
   ],
   "source": [
    "best_param, best_score"
   ]
  },
  {
   "cell_type": "code",
   "execution_count": 9,
   "metadata": {
    "ExecuteTime": {
     "end_time": "2019-12-15T06:41:41.530022Z",
     "start_time": "2019-12-15T04:59:02.809769Z"
    }
   },
   "outputs": [
    {
     "name": "stderr",
     "output_type": "stream",
     "text": [
      "/Users/kirilltusin/.local/share/virtualenvs/DataScience-GrVxlVPs/lib/python3.7/site-packages/ipykernel_launcher.py:14: TqdmDeprecationWarning: This function will be removed in tqdm==5.0.0\n",
      "Please use `tqdm.notebook.tqdm` instead of `tqdm.tqdm_notebook`\n",
      "  \n"
     ]
    },
    {
     "data": {
      "application/vnd.jupyter.widget-view+json": {
       "model_id": "4bf25b98f08541f1af4505a2799967e2",
       "version_major": 2,
       "version_minor": 0
      },
      "text/plain": [
       "HBox(children=(FloatProgress(value=0.0, max=432.0), HTML(value='')))"
      ]
     },
     "metadata": {},
     "output_type": "display_data"
    },
    {
     "name": "stdout",
     "output_type": "stream",
     "text": [
      "BEST PARAMS {'C': 1, 'analyzer': 'char', 'max_features': 5000, 'min_df': 7, 'range_max': 4, 'range_min': 3}\n",
      "BEST SCORE 0.4847360681098684\n",
      "BEST PARAMS {'C': 1, 'analyzer': 'char', 'max_features': 5000, 'min_df': 7, 'range_max': 4, 'range_min': 4}\n",
      "BEST SCORE 0.4875873975519694\n",
      "BEST PARAMS {'C': 1, 'analyzer': 'char', 'max_features': 5000, 'min_df': 10, 'range_max': 4, 'range_min': 4}\n",
      "BEST SCORE 0.4875902735999838\n",
      "BEST PARAMS {'C': 1, 'analyzer': 'char', 'max_features': 5000, 'min_df': 12, 'range_max': 4, 'range_min': 4}\n",
      "BEST SCORE 0.48767187014852476\n",
      "BEST PARAMS {'C': 1, 'analyzer': 'char', 'max_features': 7500, 'min_df': 7, 'range_max': 4, 'range_min': 3}\n",
      "BEST SCORE 0.4884398886866044\n",
      "BEST PARAMS {'C': 1, 'analyzer': 'char', 'max_features': 7500, 'min_df': 7, 'range_max': 4, 'range_min': 4}\n",
      "BEST SCORE 0.49017467324131253\n",
      "BEST PARAMS {'C': 1, 'analyzer': 'char', 'max_features': 7500, 'min_df': 8, 'range_max': 4, 'range_min': 4}\n",
      "BEST SCORE 0.49082018142498923\n",
      "BEST PARAMS {'C': 1, 'analyzer': 'char', 'max_features': 7500, 'min_df': 9, 'range_max': 4, 'range_min': 4}\n",
      "BEST SCORE 0.4909042593518731\n",
      "BEST PARAMS {'C': 1, 'analyzer': 'char', 'max_features': 10000, 'min_df': 7, 'range_max': 4, 'range_min': 4}\n",
      "BEST SCORE 0.49197062819359005\n",
      "\n"
     ]
    }
   ],
   "source": [
    "grid_params = {\n",
    "    'analyzer': ['char', 'char_wb'],\n",
    "    'range_min': [3, 4],\n",
    "    'range_max': [4, 5, 6],\n",
    "    'min_df': range(7, 13),\n",
    "    'max_features': [5000, 7500, 10000],\n",
    "    'C': [1, 1e-1],\n",
    "}\n",
    "N_FOLDS = 3\n",
    "cv = StratifiedKFold(n_splits=N_FOLDS, shuffle=True, random_state=42)\n",
    "all_results = []\n",
    "best_param = {}\n",
    "best_score = 0\n",
    "for param in tqdm_notebook(list(ParameterGrid(grid_params))):\n",
    "    model = generate_model(param)\n",
    "    score = cross_val_score(model, X, y, cv=cv, scoring=macro_f1_score, n_jobs=1).mean()\n",
    "    all_results.append({'param':param, 'score':score})\n",
    "    \n",
    "    now_best = max(all_results, key = lambda x: x['score'])\n",
    "    if best_score < now_best['score']:\n",
    "        best_param = now_best['param']\n",
    "        best_score = now_best['score']\n",
    "        print(f\"BEST PARAMS {best_param}\")\n",
    "        print(f\"BEST SCORE {best_score}\")"
   ]
  },
  {
   "cell_type": "code",
   "execution_count": 10,
   "metadata": {
    "ExecuteTime": {
     "end_time": "2019-12-15T06:41:41.665586Z",
     "start_time": "2019-12-15T06:41:41.660867Z"
    }
   },
   "outputs": [
    {
     "data": {
      "text/plain": [
       "({'C': 1,\n",
       "  'analyzer': 'char',\n",
       "  'max_features': 10000,\n",
       "  'min_df': 7,\n",
       "  'range_max': 4,\n",
       "  'range_min': 4},\n",
       " 0.49197062819359005)"
      ]
     },
     "execution_count": 10,
     "metadata": {},
     "output_type": "execute_result"
    }
   ],
   "source": [
    "best_param, best_score"
   ]
  }
 ],
 "metadata": {
  "kernelspec": {
   "display_name": "Python 3",
   "language": "python",
   "name": "python3"
  },
  "language_info": {
   "codemirror_mode": {
    "name": "ipython",
    "version": 3
   },
   "file_extension": ".py",
   "mimetype": "text/x-python",
   "name": "python",
   "nbconvert_exporter": "python",
   "pygments_lexer": "ipython3",
   "version": "3.7.4"
  },
  "nbTranslate": {
   "displayLangs": [
    "*"
   ],
   "hotkey": "alt-t",
   "langInMainMenu": true,
   "sourceLang": "en",
   "targetLang": "fr",
   "useGoogleTranslate": true
  },
  "toc": {
   "base_numbering": 1,
   "nav_menu": {},
   "number_sections": true,
   "sideBar": true,
   "skip_h1_title": false,
   "title_cell": "Table of Contents",
   "title_sidebar": "Contents",
   "toc_cell": false,
   "toc_position": {},
   "toc_section_display": true,
   "toc_window_display": false
  },
  "varInspector": {
   "cols": {
    "lenName": 16,
    "lenType": 16,
    "lenVar": 40
   },
   "kernels_config": {
    "python": {
     "delete_cmd_postfix": "",
     "delete_cmd_prefix": "del ",
     "library": "var_list.py",
     "varRefreshCmd": "print(var_dic_list())"
    },
    "r": {
     "delete_cmd_postfix": ") ",
     "delete_cmd_prefix": "rm(",
     "library": "var_list.r",
     "varRefreshCmd": "cat(var_dic_list()) "
    }
   },
   "types_to_exclude": [
    "module",
    "function",
    "builtin_function_or_method",
    "instance",
    "_Feature"
   ],
   "window_display": false
  }
 },
 "nbformat": 4,
 "nbformat_minor": 2
}
